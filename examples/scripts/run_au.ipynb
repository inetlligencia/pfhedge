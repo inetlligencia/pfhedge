{
 "cells": [
  {
   "cell_type": "code",
   "execution_count": 1,
   "metadata": {},
   "outputs": [
    {
     "ename": "TypeError",
     "evalue": "price() got an unexpected keyword argument 'volatility'",
     "output_type": "error",
     "traceback": [
      "\u001b[1;31m---------------------------------------------------------------------------\u001b[0m",
      "\u001b[1;31mTypeError\u001b[0m                                 Traceback (most recent call last)",
      "Cell \u001b[1;32mIn[1], line 33\u001b[0m\n\u001b[0;32m     30\u001b[0m time_to_maturity \u001b[38;5;241m=\u001b[39m torch\u001b[38;5;241m.\u001b[39mtensor(\u001b[38;5;241m1.0\u001b[39m, dtype\u001b[38;5;241m=\u001b[39mtorch\u001b[38;5;241m.\u001b[39mfloat64)\n\u001b[0;32m     32\u001b[0m \u001b[38;5;66;03m# Calculate Greeks using autogreek\u001b[39;00m\n\u001b[1;32m---> 33\u001b[0m delta \u001b[38;5;241m=\u001b[39m \u001b[43mautogreek\u001b[49m\u001b[38;5;241;43m.\u001b[39;49m\u001b[43mdelta\u001b[49m\u001b[43m(\u001b[49m\u001b[43mpricer\u001b[49m\u001b[43m,\u001b[49m\u001b[43m \u001b[49m\u001b[43mspot\u001b[49m\u001b[38;5;241;43m=\u001b[39;49m\u001b[43mspot\u001b[49m\u001b[43m,\u001b[49m\u001b[43m \u001b[49m\u001b[43mvolatility\u001b[49m\u001b[38;5;241;43m=\u001b[39;49m\u001b[43mvolatility\u001b[49m\u001b[43m,\u001b[49m\u001b[43m \u001b[49m\u001b[43mtime_to_maturity\u001b[49m\u001b[38;5;241;43m=\u001b[39;49m\u001b[43mtime_to_maturity\u001b[49m\u001b[43m)\u001b[49m\n\u001b[0;32m     34\u001b[0m gamma \u001b[38;5;241m=\u001b[39m autogreek\u001b[38;5;241m.\u001b[39mgamma(pricer, spot\u001b[38;5;241m=\u001b[39mspot, volatility\u001b[38;5;241m=\u001b[39mvolatility, time_to_maturity\u001b[38;5;241m=\u001b[39mtime_to_maturity)\n\u001b[0;32m     35\u001b[0m vega \u001b[38;5;241m=\u001b[39m autogreek\u001b[38;5;241m.\u001b[39mvega(pricer, spot\u001b[38;5;241m=\u001b[39mspot, volatility\u001b[38;5;241m=\u001b[39mvolatility, time_to_maturity\u001b[38;5;241m=\u001b[39mtime_to_maturity)\n",
      "File \u001b[1;32mC:\\Users\\Public\\repos\\pfhedge\\pfhedge\\autogreek.py:99\u001b[0m, in \u001b[0;36mdelta\u001b[1;34m(pricer, create_graph, **params)\u001b[0m\n\u001b[0;32m     96\u001b[0m     \u001b[38;5;28;01mif\u001b[39;00m parameter \u001b[38;5;129;01mnot\u001b[39;00m \u001b[38;5;129;01min\u001b[39;00m signature(pricer)\u001b[38;5;241m.\u001b[39mparameters\u001b[38;5;241m.\u001b[39mkeys():\n\u001b[0;32m     97\u001b[0m         \u001b[38;5;28;01mdel\u001b[39;00m params[parameter]\n\u001b[1;32m---> 99\u001b[0m price \u001b[38;5;241m=\u001b[39m pricer(\u001b[38;5;241m*\u001b[39m\u001b[38;5;241m*\u001b[39mparams)\n\u001b[0;32m    100\u001b[0m \u001b[38;5;28;01mreturn\u001b[39;00m torch\u001b[38;5;241m.\u001b[39mautograd\u001b[38;5;241m.\u001b[39mgrad(\n\u001b[0;32m    101\u001b[0m     price,\n\u001b[0;32m    102\u001b[0m     inputs\u001b[38;5;241m=\u001b[39mspot,\n\u001b[0;32m    103\u001b[0m     grad_outputs\u001b[38;5;241m=\u001b[39mtorch\u001b[38;5;241m.\u001b[39mones_like(price),\n\u001b[0;32m    104\u001b[0m     create_graph\u001b[38;5;241m=\u001b[39mcreate_graph,\n\u001b[0;32m    105\u001b[0m )[\u001b[38;5;241m0\u001b[39m]\n",
      "Cell \u001b[1;32mIn[1], line 19\u001b[0m, in \u001b[0;36mpricer\u001b[1;34m(spot, volatility, time_to_maturity)\u001b[0m\n\u001b[0;32m     18\u001b[0m \u001b[38;5;28;01mdef\u001b[39;00m \u001b[38;5;21mpricer\u001b[39m(spot, volatility, time_to_maturity):\n\u001b[1;32m---> 19\u001b[0m     \u001b[38;5;28;01mreturn\u001b[39;00m \u001b[43mhedger\u001b[49m\u001b[38;5;241;43m.\u001b[39;49m\u001b[43mprice\u001b[49m\u001b[43m(\u001b[49m\n\u001b[0;32m     20\u001b[0m \u001b[43m        \u001b[49m\u001b[43moption\u001b[49m\u001b[43m,\u001b[49m\n\u001b[0;32m     21\u001b[0m \u001b[43m        \u001b[49m\u001b[43minit_state\u001b[49m\u001b[38;5;241;43m=\u001b[39;49m\u001b[43m(\u001b[49m\u001b[43mspot\u001b[49m\u001b[43m,\u001b[49m\u001b[43m)\u001b[49m\u001b[43m,\u001b[49m\n\u001b[0;32m     22\u001b[0m \u001b[43m        \u001b[49m\u001b[43mvolatility\u001b[49m\u001b[38;5;241;43m=\u001b[39;49m\u001b[43mvolatility\u001b[49m\u001b[43m,\u001b[49m\n\u001b[0;32m     23\u001b[0m \u001b[43m        \u001b[49m\u001b[43mtime_to_maturity\u001b[49m\u001b[38;5;241;43m=\u001b[39;49m\u001b[43mtime_to_maturity\u001b[49m\u001b[43m,\u001b[49m\n\u001b[0;32m     24\u001b[0m \u001b[43m        \u001b[49m\u001b[43menable_grad\u001b[49m\u001b[38;5;241;43m=\u001b[39;49m\u001b[38;5;28;43;01mTrue\u001b[39;49;00m\n\u001b[0;32m     25\u001b[0m \u001b[43m    \u001b[49m\u001b[43m)\u001b[49m\n",
      "\u001b[1;31mTypeError\u001b[0m: price() got an unexpected keyword argument 'volatility'"
     ]
    },
    {
     "ename": "",
     "evalue": "",
     "output_type": "error",
     "traceback": [
      "\u001b[1;31mThe Kernel crashed while executing code in the current cell or a previous cell. \n",
      "\u001b[1;31mPlease review the code in the cell(s) to identify a possible cause of the failure. \n",
      "\u001b[1;31mClick <a href='https://aka.ms/vscodeJupyterKernelCrash'>here</a> for more info. \n",
      "\u001b[1;31mView Jupyter <a href='command:jupyter.viewOutput'>log</a> for further details."
     ]
    }
   ],
   "source": [
    "import torch\n",
    "import pfhedge.autogreek as autogreek\n",
    "from pfhedge.instruments import BrownianStock, EuropeanOption\n",
    "from pfhedge.nn import Hedger, WhalleyWilmott\n",
    "\n",
    "# Set random seed for reproducibility\n",
    "torch.manual_seed(42)\n",
    "\n",
    "# Create a European option on a Brownian stock\n",
    "stock = BrownianStock(cost=1e-4)\n",
    "option = EuropeanOption(stock).to(torch.float64)\n",
    "\n",
    "# Create a hedger using the Whalley-Wilmott model\n",
    "model = WhalleyWilmott(option)\n",
    "hedger = Hedger(model, model.inputs()).to(torch.float64)\n",
    "\n",
    "# Define the pricer function\n",
    "def pricer(spot, volatility, time_to_maturity):\n",
    "    return hedger.price(\n",
    "        option,\n",
    "        init_state=(spot,),\n",
    "        volatility=volatility,\n",
    "        time_to_maturity=time_to_maturity,\n",
    "        enable_grad=True\n",
    "    )\n",
    "\n",
    "# Set up parameters for Greek calculations\n",
    "spot = torch.tensor(1.0, dtype=torch.float64)\n",
    "volatility = torch.tensor(0.2, dtype=torch.float64)\n",
    "time_to_maturity = torch.tensor(1.0, dtype=torch.float64)\n",
    "\n",
    "# Calculate Greeks using autogreek\n",
    "delta = autogreek.delta(pricer, spot=spot, volatility=volatility, time_to_maturity=time_to_maturity)\n",
    "gamma = autogreek.gamma(pricer, spot=spot, volatility=volatility, time_to_maturity=time_to_maturity)\n",
    "vega = autogreek.vega(pricer, spot=spot, volatility=volatility, time_to_maturity=time_to_maturity)\n",
    "\n",
    "print(\"Calculated Greeks using autogreek:\")\n",
    "print(f\"Delta: {delta.item():.6f}\")\n",
    "print(f\"Gamma: {gamma.item():.6f}\")\n",
    "print(f\"Vega: {vega.item():.6f}\")\n",
    "\n",
    "# Simulate Greeks using finite differences\n",
    "epsilon = 1e-6\n",
    "\n",
    "# Simulated Delta\n",
    "price_up = pricer(spot + epsilon, volatility, time_to_maturity)\n",
    "price_down = pricer(spot - epsilon, volatility, time_to_maturity)\n",
    "simulated_delta = (price_up - price_down) / (2 * epsilon)\n",
    "\n",
    "# Simulated Gamma\n",
    "simulated_gamma = (price_up + price_down - 2 * pricer(spot, volatility, time_to_maturity)) / (epsilon ** 2)\n",
    "\n",
    "# Simulated Vega\n",
    "price_vol_up = pricer(spot, volatility + epsilon, time_to_maturity)\n",
    "price_vol_down = pricer(spot, volatility - epsilon, time_to_maturity)\n",
    "simulated_vega = (price_vol_up - price_vol_down) / (2 * epsilon)\n",
    "\n",
    "print(\"\\nSimulated Greeks using finite differences:\")\n",
    "print(f\"Delta: {simulated_delta.item():.6f}\")\n",
    "print(f\"Gamma: {simulated_gamma.item():.6f}\")\n",
    "print(f\"Vega: {simulated_vega.item():.6f}\")\n"
   ]
  }
 ],
 "metadata": {
  "kernelspec": {
   "display_name": "Python 3",
   "language": "python",
   "name": "python3"
  },
  "language_info": {
   "codemirror_mode": {
    "name": "ipython",
    "version": 3
   },
   "file_extension": ".py",
   "mimetype": "text/x-python",
   "name": "python",
   "nbconvert_exporter": "python",
   "pygments_lexer": "ipython3",
   "version": "3.9.21"
  }
 },
 "nbformat": 4,
 "nbformat_minor": 2
}
