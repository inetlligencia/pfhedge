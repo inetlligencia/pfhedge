{
 "cells": [
  {
   "cell_type": "code",
   "execution_count": 1,
   "metadata": {},
   "outputs": [],
   "source": [
    "import sys\n",
    "\n",
    "import torch\n",
    "import torch.nn.functional as fn\n",
    "from torch import Tensor\n",
    "from torch.nn import Module\n",
    "\n",
    "sys.path.append(\"..\")\n",
    "from pfhedge.instruments import BrownianStock\n",
    "from pfhedge.instruments import EuropeanOption\n",
    "from pfhedge.nn import BlackScholes\n",
    "from pfhedge.nn import Clamp\n",
    "from pfhedge.nn import Hedger\n",
    "from pfhedge.nn import MultiLayerPerceptron\n",
    "from torch.nn import Module"
   ]
  },
  {
   "cell_type": "code",
   "execution_count": 5,
   "metadata": {},
   "outputs": [],
   "source": [
    "class NoTransactionBandNet(Module):\n",
    "    def __init__(self, derivative):\n",
    "        super().__init__()\n",
    "\n",
    "        self.delta = BlackScholes(derivative)\n",
    "        self.mlp = MultiLayerPerceptron(out_features=2)\n",
    "        self.clamp = Clamp()\n",
    "\n",
    "    def inputs(self):\n",
    "        return self.delta.inputs() + [\"prev_hedge\"]\n",
    "\n",
    "    def forward(self, input: Tensor) -> Tensor:\n",
    "        prev_hedge = input[..., [-1]]\n",
    "\n",
    "        delta = self.delta(input[..., :-1])\n",
    "        width = self.mlp(input[..., :-1])\n",
    "\n",
    "        min = delta - fn.leaky_relu(width[..., [0]])\n",
    "        max = delta + fn.leaky_relu(width[..., [1]])\n",
    "\n",
    "        return self.clamp(prev_hedge, min=min, max=max)"
   ]
  },
  {
   "cell_type": "code",
   "execution_count": null,
   "metadata": {},
   "outputs": [
    {
     "ename": "TypeError",
     "evalue": "Hedger.__init__() got an unexpected keyword argument 'cost'",
     "output_type": "error",
     "traceback": [
      "\u001b[1;31m---------------------------------------------------------------------------\u001b[0m",
      "\u001b[1;31mTypeError\u001b[0m                                 Traceback (most recent call last)",
      "Cell \u001b[1;32mIn [7], line 14\u001b[0m\n\u001b[0;32m      9\u001b[0m derivative \u001b[38;5;241m=\u001b[39m EuropeanOption(\n\u001b[0;32m     10\u001b[0m     underlier, strike\u001b[38;5;241m=\u001b[39m\u001b[38;5;241m100\u001b[39m, maturity\u001b[38;5;241m=\u001b[39m\u001b[38;5;241m30\u001b[39m\u001b[38;5;241m/\u001b[39m\u001b[38;5;241m252\u001b[39m\n\u001b[0;32m     11\u001b[0m )\n\u001b[0;32m     13\u001b[0m \u001b[38;5;66;03m# Initialize the hedger and integrate transaction cost\u001b[39;00m\n\u001b[1;32m---> 14\u001b[0m hedger \u001b[38;5;241m=\u001b[39m \u001b[43mHedger\u001b[49m\u001b[43m(\u001b[49m\n\u001b[0;32m     15\u001b[0m \u001b[43m    \u001b[49m\u001b[43mmodel\u001b[49m\u001b[43m \u001b[49m\u001b[38;5;241;43m=\u001b[39;49m\u001b[43m \u001b[49m\u001b[43mBlackScholes\u001b[49m\u001b[43m(\u001b[49m\u001b[43mderivative\u001b[49m\u001b[43m)\u001b[49m\u001b[43m,\u001b[49m\n\u001b[0;32m     16\u001b[0m \u001b[43m    \u001b[49m\u001b[43minputs\u001b[49m\u001b[38;5;241;43m=\u001b[39;49m\u001b[43minputs\u001b[49m\u001b[43m,\u001b[49m\n\u001b[0;32m     17\u001b[0m \u001b[43m    \u001b[49m\u001b[43mcost\u001b[49m\u001b[38;5;241;43m=\u001b[39;49m\u001b[43mcustom_transaction_cost\u001b[49m\u001b[43m  \u001b[49m\u001b[38;5;66;43;03m# Custom transaction cost\u001b[39;49;00m\n\u001b[0;32m     18\u001b[0m \u001b[43m)\u001b[49m\n\u001b[0;32m     20\u001b[0m custom_hedger \u001b[38;5;241m=\u001b[39m Hedger(\n\u001b[0;32m     21\u001b[0m     model\u001b[38;5;241m=\u001b[39mNoTransactionBandNet(),\n\u001b[0;32m     22\u001b[0m     inputs\u001b[38;5;241m=\u001b[39minputs,\n\u001b[0;32m     23\u001b[0m     cost\u001b[38;5;241m=\u001b[39mcustom_transaction_cost,\n\u001b[0;32m     24\u001b[0m )\n",
      "\u001b[1;31mTypeError\u001b[0m: Hedger.__init__() got an unexpected keyword argument 'cost'"
     ]
    }
   ],
   "source": [
    "def to_numpy(tensor: torch.Tensor) -> np.array:\n",
    "    return tensor.cpu().detach().numpy()\n",
    "\n",
    "# Custom transaction cost function\n",
    "def custom_transaction_cost(traded_volume):\n",
    "    return torch.abs(traded_volume) ** (3/4)\n",
    "\n",
    "inputs = [\"log_moneyness\", \"time_to_maturity\"]\n",
    "\n",
    "underlier=BrownianStock(cost=1e-4)\n",
    "# Define the derivative (e.g., European Put Option)\n",
    "derivative = EuropeanOption(\n",
    "    underlier, strike=100, maturity=30/252\n",
    ")\n",
    "\n",
    "# Initialize the hedger and integrate transaction cost\n",
    "hedger = Hedger(\n",
    "    model = BlackScholes(derivative),\n",
    "    inputs=inputs,\n",
    "    cost=custom_transaction_cost  # Custom transaction cost\n",
    ")\n",
    "\n",
    "custom_hedger = Hedger(\n",
    "    model=NoTransactionBandNet(),\n",
    "    inputs=inputs,\n",
    "    cost=custom_transaction_cost,\n",
    ")\n"
   ]
  },
  {
   "cell_type": "code",
   "execution_count": null,
   "metadata": {},
   "outputs": [],
   "source": [
    "# In each epoch, N_PATHS brownian motion time-series are generated.\n",
    "N_PATHS = 50000\n",
    "# How many times a model is updated in the experiment.\n",
    "N_EPOCHS = 200\n",
    "\n",
    "history = hedger.fit(derivative, n_epochs=N_EPOCHS, n_paths=N_PATHS, n_times=20)"
   ]
  }
 ],
 "metadata": {
  "kernelspec": {
   "display_name": "pt",
   "language": "python",
   "name": "python3"
  },
  "language_info": {
   "codemirror_mode": {
    "name": "ipython",
    "version": 3
   },
   "file_extension": ".py",
   "mimetype": "text/x-python",
   "name": "python",
   "nbconvert_exporter": "python",
   "pygments_lexer": "ipython3",
   "version": "3.10.8"
  }
 },
 "nbformat": 4,
 "nbformat_minor": 2
}
