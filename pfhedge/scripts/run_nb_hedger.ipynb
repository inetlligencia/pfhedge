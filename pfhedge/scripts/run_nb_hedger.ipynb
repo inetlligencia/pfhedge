{
 "cells": [
  {
   "cell_type": "code",
   "execution_count": null,
   "metadata": {},
   "outputs": [],
   "source": []
  },
  {
   "cell_type": "code",
   "execution_count": 1,
   "metadata": {},
   "outputs": [],
   "source": [
    "import matplotlib\n",
    "import matplotlib.pyplot as plt\n",
    "import numpy as np\n",
    "import seaborn\n",
    "import torch"
   ]
  },
  {
   "cell_type": "markdown",
   "metadata": {},
   "source": [
    "# No-Transaction-Band Network with Non-Linear Transaction Costs\n",
    "\n",
    "This notebook demonstrates how to implement a no-transaction-band network in `pfhedge` with a non-linear transaction cost function. The transaction cost is proportional to the volatility of the stock raised to the power of 1.3 and the traded volume raised to the power of 0.75.\n",
    "\n",
    "## Step 1: Import Required Libraries\n"
   ]
  },
  {
   "cell_type": "code",
   "execution_count": 2,
   "metadata": {},
   "outputs": [],
   "source": [
    "import torch\n",
    "from pfhedge.instruments import BrownianStock, EuropeanOption\n",
    "from pfhedge.nn import Hedger\n",
    "\n"
   ]
  },
  {
   "cell_type": "code",
   "execution_count": 3,
   "metadata": {},
   "outputs": [
    {
     "ename": "RuntimeWarning",
     "evalue": "CUDA is not available. If you're using Google Colab, you can enable GPUs as: https://colab.research.google.com/notebooks/gpu.ipynb",
     "output_type": "error",
     "traceback": [
      "\u001b[0;31m---------------------------------------------------------------------------\u001b[0m",
      "\u001b[0;31mRuntimeWarning\u001b[0m                            Traceback (most recent call last)",
      "Cell \u001b[0;32mIn[3], line 4\u001b[0m\n\u001b[1;32m      1\u001b[0m torch\u001b[38;5;241m.\u001b[39mmanual_seed(\u001b[38;5;241m42\u001b[39m)\n\u001b[1;32m      3\u001b[0m \u001b[38;5;28;01mif\u001b[39;00m \u001b[38;5;129;01mnot\u001b[39;00m torch\u001b[38;5;241m.\u001b[39mcuda\u001b[38;5;241m.\u001b[39mis_available():\n\u001b[0;32m----> 4\u001b[0m     \u001b[38;5;28;01mraise\u001b[39;00m \u001b[38;5;167;01mRuntimeWarning\u001b[39;00m(\n\u001b[1;32m      5\u001b[0m         \u001b[38;5;124m\"\u001b[39m\u001b[38;5;124mCUDA is not available. \u001b[39m\u001b[38;5;124m\"\u001b[39m\n\u001b[1;32m      6\u001b[0m         \u001b[38;5;124m\"\u001b[39m\u001b[38;5;124mIf you\u001b[39m\u001b[38;5;124m'\u001b[39m\u001b[38;5;124mre using Google Colab, you can enable GPUs as: \u001b[39m\u001b[38;5;124m\"\u001b[39m\n\u001b[1;32m      7\u001b[0m         \u001b[38;5;124m\"\u001b[39m\u001b[38;5;124mhttps://colab.research.google.com/notebooks/gpu.ipynb\u001b[39m\u001b[38;5;124m\"\u001b[39m\n\u001b[1;32m      8\u001b[0m     )\n",
      "\u001b[0;31mRuntimeWarning\u001b[0m: CUDA is not available. If you're using Google Colab, you can enable GPUs as: https://colab.research.google.com/notebooks/gpu.ipynb"
     ]
    }
   ],
   "source": [
    "torch.manual_seed(42)\n",
    "\n",
    "if not torch.cuda.is_available():\n",
    "    raise RuntimeWarning(\n",
    "        \"CUDA is not available. \"\n",
    "        \"If you're using Google Colab, you can enable GPUs as: \"\n",
    "        \"https://colab.research.google.com/notebooks/gpu.ipynb\"\n",
    "    )\n"
   ]
  },
  {
   "cell_type": "code",
   "execution_count": 4,
   "metadata": {},
   "outputs": [
    {
     "name": "stdout",
     "output_type": "stream",
     "text": [
      "Default device: cpu\n"
     ]
    }
   ],
   "source": [
    "\n",
    "DEVICE = torch.device(\"cuda:0\" if torch.cuda.is_available() else \"cpu\")\n",
    "print(\"Default device:\", DEVICE)"
   ]
  },
  {
   "cell_type": "code",
   "execution_count": 5,
   "metadata": {},
   "outputs": [],
   "source": [
    "# In each epoch, N_PATHS brownian motion time-series are generated.\n",
    "N_PATHS = 50000\n",
    "# How many times a model is updated in the experiment.\n",
    "N_EPOCHS = 200\n",
    "\n",
    "def to_numpy(tensor: torch.Tensor) -> np.array:\n",
    "    return tensor.cpu().detach().numpy()"
   ]
  },
  {
   "cell_type": "code",
   "execution_count": 7,
   "metadata": {},
   "outputs": [],
   "source": [
    "import torch.nn.functional as fn\n",
    "from torch import Tensor\n",
    "from torch.nn import Module\n",
    "from pfhedge.nn import BlackScholes, Clamp, MultiLayerPerceptron\n",
    "\n",
    "\n",
    "class NoTransactionBandNet(Module):\n",
    "    def __init__(self, derivative):\n",
    "        super().__init__()\n",
    "\n",
    "        self.delta = BlackScholes(derivative)\n",
    "        self.mlp = MultiLayerPerceptron(out_features=2)\n",
    "        self.clamp = Clamp()\n",
    "\n",
    "    def inputs(self):\n",
    "        return self.delta.inputs() + [\"prev_hedge\"]\n",
    "\n",
    "    def forward(self, input: Tensor) -> Tensor:\n",
    "        prev_hedge = input[..., [-1]]\n",
    "\n",
    "        delta = self.delta(input[..., :-1])\n",
    "        width = self.mlp(input[..., :-1])\n",
    "\n",
    "        min = delta - fn.leaky_relu(width[..., [0]])\n",
    "        max = delta + fn.leaky_relu(width[..., [1]])\n",
    "\n",
    "        return self.clamp(prev_hedge, min=min, max=max)"
   ]
  },
  {
   "cell_type": "code",
   "execution_count": 8,
   "metadata": {},
   "outputs": [],
   "source": [
    "def non_linear_transaction_cost(prev_position, new_position, volatility=0.16, avg_volume=1e8):\n",
    "    \"\"\"\n",
    "    Custom non-linear transaction cost function based on stock volatility.\n",
    "\n",
    "    Args:\n",
    "    - hedger: Hedger instance\n",
    "    - prev_position: Portfolio positions at the previous step\n",
    "    - new_position: Portfolio positions at the current step\n",
    "    - market: Market instance\n",
    "    - paths: Simulated paths of the stock price\n",
    "\n",
    "    Returns:\n",
    "    - cost: Computed transaction cost\n",
    "    \"\"\"\n",
    "    # Calculate the change in position\n",
    "    delta_position = new_position - prev_position\n",
    "\n",
    "    # Calculate traded volume\n",
    "    traded_volume = torch.abs(delta_position)\n",
    "\n",
    "    # Apply the custom transaction cost formula\n",
    "    cost = 42. * (volatility ** 1.3) * ((traded_volume/avg_volume) ** 0.75)\n",
    "    return cost.sum()\n"
   ]
  },
  {
   "cell_type": "code",
   "execution_count": 37,
   "metadata": {},
   "outputs": [],
   "source": [
    "import torch\n",
    "from pfhedge.nn import Hedger\n",
    "from pfhedge.instruments import EuropeanOption, BrownianStock\n",
    "\n",
    "# Define the custom transaction cost function\n",
    "class CustomTransactionCost:\n",
    "    def __init__(self, cost_rate=0.01):\n",
    "        \"\"\"\n",
    "        Initializes the transaction cost model.\n",
    "        Args:\n",
    "            cost_rate: Proportionality constant for transaction cost.\n",
    "        \"\"\"\n",
    "        self.cost_rate = cost_rate\n",
    "\n",
    "    def __call__(self, delta_change):\n",
    "        \"\"\"\n",
    "        Computes transaction cost proportional to the 3/4 power of the delta change.\n",
    "        Args:\n",
    "            delta_change: The volume of stock traded (torch.Tensor).\n",
    "        Returns:\n",
    "            Transaction cost (torch.Tensor).\n",
    "        \"\"\"\n",
    "        return self.cost_rate * torch.abs(delta_change) ** (3 / 4)\n",
    "\n",
    "\n",
    "\n",
    "# Customize the training loop to incorporate transaction costs\n",
    "def train_with_transaction_cost(hedger, option, transaction_cost_model):\n",
    "    \"\"\"\n",
    "    Custom training loop that incorporates transaction costs into the hedger.\n",
    "    Args:\n",
    "        hedger: The hedger object to train.\n",
    "        option: The option to hedge.\n",
    "        transaction_cost_model: The transaction cost model to apply.\n",
    "    \"\"\"\n",
    "    # Access the simulated spot prices from the underlying asset\n",
    "    spot = option.underlier.spot  # Use the simulated spot buffer\n",
    "\n",
    "    for path in spot.T:  # Iterate over each path\n",
    "        # Compute inputs for the hedger model\n",
    "        log_moneyness = torch.log(path / option.strike)\n",
    "        time_to_maturity = torch.linspace(option.maturity, 0, len(path))\n",
    "\n",
    "        # Compute deltas using the hedger model\n",
    "        inputs = torch.stack([log_moneyness, time_to_maturity], dim=-1)\n",
    "        deltas = hedger.model(inputs).squeeze()  # Predict deltas from the hedger model\n",
    "        delta_changes = torch.diff(deltas, dim=0)\n",
    "        \n",
    "        # Apply the transaction cost function\n",
    "        transaction_costs = transaction_cost_model(delta_changes)\n",
    "        \n",
    "        # Compute the option payoff\n",
    "        payoff = option.payoff(path)\n",
    "        \n",
    "        # Adjust the profit and loss (P&L) for transaction costs\n",
    "        pnl = payoff - transaction_costs.sum()\n",
    "        \n",
    "        # Update the hedger's parameters\n",
    "        hedger.step(pnl)\n",
    "\n",
    "\n",
    "\n"
   ]
  },
  {
   "cell_type": "code",
   "execution_count": 41,
   "metadata": {},
   "outputs": [
    {
     "name": "stderr",
     "output_type": "stream",
     "text": [
      "/Users/Shared/pt_conda3/lib/python3.10/site-packages/torch/nn/modules/lazy.py:180: UserWarning: Lazy modules are a new feature under heavy development so changes to the API or functionality can happen at any moment.\n",
      "  warnings.warn('Lazy modules are a new feature under heavy development '\n"
     ]
    }
   ],
   "source": [
    "# Define the underlying asset (Brownian motion stock process)\n",
    "stock = BrownianStock(cost=5e-4)\n",
    "\n",
    "# Define the derivative (European option) based on the stock\n",
    "option = EuropeanOption(stock, strike=100, maturity=30/252)\n",
    "\n",
    "# Define the transaction cost model\n",
    "transaction_cost_model = CustomTransactionCost(cost_rate=0.01)\n",
    "\n",
    "\n",
    "model = NoTransactionBandNet(derivative=option)\n",
    "\n",
    "# Initialize the hedger without a specific model for now\n",
    "hedger = Hedger(model=model, inputs=[\"log_moneyness\", \"time_to_maturity\"])"
   ]
  },
  {
   "cell_type": "code",
   "execution_count": 42,
   "metadata": {},
   "outputs": [],
   "source": [
    "stock.simulate(n_paths=N_PATHS)\n",
    "# Simulate paths of the underlying\n",
    "option.simulate(n_paths=N_PATHS)"
   ]
  },
  {
   "cell_type": "code",
   "execution_count": 43,
   "metadata": {},
   "outputs": [
    {
     "ename": "TypeError",
     "evalue": "BaseDerivative.payoff() takes 1 positional argument but 2 were given",
     "output_type": "error",
     "traceback": [
      "\u001b[0;31m---------------------------------------------------------------------------\u001b[0m",
      "\u001b[0;31mTypeError\u001b[0m                                 Traceback (most recent call last)",
      "Cell \u001b[0;32mIn[43], line 2\u001b[0m\n\u001b[1;32m      1\u001b[0m \u001b[38;5;66;03m# Train the hedger with transaction costs\u001b[39;00m\n\u001b[0;32m----> 2\u001b[0m \u001b[43mtrain_with_transaction_cost\u001b[49m\u001b[43m(\u001b[49m\u001b[43mhedger\u001b[49m\u001b[43m,\u001b[49m\u001b[43m \u001b[49m\u001b[43moption\u001b[49m\u001b[43m,\u001b[49m\u001b[43m \u001b[49m\u001b[43mtransaction_cost_model\u001b[49m\u001b[43m)\u001b[49m\n\u001b[1;32m      4\u001b[0m \u001b[38;5;66;03m# Evaluate the price and hedging strategy\u001b[39;00m\n\u001b[1;32m      5\u001b[0m hedge_price \u001b[38;5;241m=\u001b[39m hedger\u001b[38;5;241m.\u001b[39mprice(option)\n",
      "Cell \u001b[0;32mIn[37], line 53\u001b[0m, in \u001b[0;36mtrain_with_transaction_cost\u001b[0;34m(hedger, option, transaction_cost_model)\u001b[0m\n\u001b[1;32m     50\u001b[0m transaction_costs \u001b[38;5;241m=\u001b[39m transaction_cost_model(delta_changes)\n\u001b[1;32m     52\u001b[0m \u001b[38;5;66;03m# Compute the option payoff\u001b[39;00m\n\u001b[0;32m---> 53\u001b[0m payoff \u001b[38;5;241m=\u001b[39m \u001b[43moption\u001b[49m\u001b[38;5;241;43m.\u001b[39;49m\u001b[43mpayoff\u001b[49m\u001b[43m(\u001b[49m\u001b[43mpath\u001b[49m\u001b[43m)\u001b[49m\n\u001b[1;32m     55\u001b[0m \u001b[38;5;66;03m# Adjust the profit and loss (P&L) for transaction costs\u001b[39;00m\n\u001b[1;32m     56\u001b[0m pnl \u001b[38;5;241m=\u001b[39m payoff \u001b[38;5;241m-\u001b[39m transaction_costs\u001b[38;5;241m.\u001b[39msum()\n",
      "\u001b[0;31mTypeError\u001b[0m: BaseDerivative.payoff() takes 1 positional argument but 2 were given"
     ]
    }
   ],
   "source": [
    "\n",
    "# Train the hedger with transaction costs\n",
    "train_with_transaction_cost(hedger, option, transaction_cost_model)\n",
    "\n",
    "# Evaluate the price and hedging strategy\n",
    "hedge_price = hedger.price(option)\n",
    "print(f\"Hedger Price: {hedge_price}\")\n"
   ]
  },
  {
   "cell_type": "code",
   "execution_count": 45,
   "metadata": {},
   "outputs": [
    {
     "data": {
      "text/plain": [
       "EuropeanOption(\n",
       "  strike=100, maturity=0.1190\n",
       "  (underlier): BrownianStock(sigma=0.2000, cost=0.0005, dt=0.0040)\n",
       ")"
      ]
     },
     "execution_count": 45,
     "metadata": {},
     "output_type": "execute_result"
    }
   ],
   "source": [
    "option"
   ]
  },
  {
   "cell_type": "code",
   "execution_count": null,
   "metadata": {},
   "outputs": [],
   "source": []
  }
 ],
 "metadata": {
  "kernelspec": {
   "display_name": "Python 3",
   "language": "python",
   "name": "python3"
  },
  "language_info": {
   "codemirror_mode": {
    "name": "ipython",
    "version": 3
   },
   "file_extension": ".py",
   "mimetype": "text/x-python",
   "name": "python",
   "nbconvert_exporter": "python",
   "pygments_lexer": "ipython3",
   "version": "3.10.9"
  }
 },
 "nbformat": 4,
 "nbformat_minor": 2
}
